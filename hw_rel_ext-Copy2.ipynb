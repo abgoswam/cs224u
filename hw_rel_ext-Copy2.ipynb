{
 "cells": [
  {
   "cell_type": "markdown",
   "metadata": {},
   "source": [
    "# Homework and bake-off: Relation extraction using distant supervision"
   ]
  },
  {
   "cell_type": "code",
   "execution_count": 1,
   "metadata": {},
   "outputs": [],
   "source": [
    "__author__ = \"Bill MacCartney and Christopher Potts\"\n",
    "__version__ = \"CS224u, Stanford, Spring 2020\""
   ]
  },
  {
   "cell_type": "markdown",
   "metadata": {},
   "source": [
    "## Contents\n",
    "\n",
    "1. [Overview](#Overview)\n",
    "1. [Set-up](#Set-up)\n",
    "1. [Baselines](#Baselines)\n",
    "  1. [Hand-build feature functions](#Hand-build-feature-functions)\n",
    "  1. [Distributed representations](#Distributed-representations)\n",
    "1. [Homework questions](#Homework-questions)\n",
    "  1. [Different model factory [1 points]](#Different-model-factory-[1-points])\n",
    "  1. [Directional unigram features [1.5 points]](#Directional-unigram-features-[1.5-points])\n",
    "  1. [The part-of-speech tags of the \"middle\" words [1.5 points]](#The-part-of-speech-tags-of-the-\"middle\"-words-[1.5-points])\n",
    "  1. [Bag of Synsets [2 points]](#Bag-of-Synsets-[2-points])\n",
    "  1. [Your original system [3 points]](#Your-original-system-[3-points])\n",
    "1. [Bake-off [1 point]](#Bake-off-[1-point])"
   ]
  },
  {
   "cell_type": "markdown",
   "metadata": {},
   "source": [
    "## Overview\n",
    "\n",
    "This homework and associated bake-off are devoted to developing really effective relation extraction systems using distant supervision. \n",
    "\n",
    "As with the previous assignments, this notebook first establishes a baseline system. The initial homework questions ask you to create additional baselines and suggest areas for innovation, and the final homework question asks you to develop an original system for you to enter into the bake-off."
   ]
  },
  {
   "cell_type": "markdown",
   "metadata": {},
   "source": [
    "## Set-up\n",
    "\n",
    "See [the first notebook in this unit](rel_ext_01_task.ipynb#Set-up) for set-up instructions."
   ]
  },
  {
   "cell_type": "code",
   "execution_count": 2,
   "metadata": {},
   "outputs": [],
   "source": [
    "import numpy as np\n",
    "import os\n",
    "import rel_ext\n",
    "from sklearn.linear_model import LogisticRegression\n",
    "import utils"
   ]
  },
  {
   "cell_type": "markdown",
   "metadata": {},
   "source": [
    "As usual, we unite our corpus and KB into a dataset, and create some splits for experimentation:"
   ]
  },
  {
   "cell_type": "code",
   "execution_count": 3,
   "metadata": {},
   "outputs": [],
   "source": [
    "rel_ext_data_home = os.path.join('data', 'rel_ext_data')"
   ]
  },
  {
   "cell_type": "code",
   "execution_count": 4,
   "metadata": {},
   "outputs": [],
   "source": [
    "corpus = rel_ext.Corpus(os.path.join(rel_ext_data_home, 'corpus.tsv.gz'))"
   ]
  },
  {
   "cell_type": "code",
   "execution_count": 5,
   "metadata": {},
   "outputs": [],
   "source": [
    "kb = rel_ext.KB(os.path.join(rel_ext_data_home, 'kb.tsv.gz'))"
   ]
  },
  {
   "cell_type": "code",
   "execution_count": 6,
   "metadata": {},
   "outputs": [],
   "source": [
    "dataset = rel_ext.Dataset(corpus, kb)"
   ]
  },
  {
   "cell_type": "markdown",
   "metadata": {},
   "source": [
    "You are not wedded to this set-up for splits. The bake-off will be conducted on a previously unseen test-set, so all of the data in `dataset` is fair game:"
   ]
  },
  {
   "cell_type": "code",
   "execution_count": 7,
   "metadata": {},
   "outputs": [],
   "source": [
    "splits = dataset.build_splits(\n",
    "    split_names=['tiny', 'train', 'dev'],\n",
    "    split_fracs=[0.01, 0.79, 0.20],\n",
    "    seed=1)"
   ]
  },
  {
   "cell_type": "code",
   "execution_count": 8,
   "metadata": {},
   "outputs": [
    {
     "data": {
      "text/plain": [
       "{'tiny': Corpus with 3,474 examples; KB with 445 triples,\n",
       " 'train': Corpus with 263,285 examples; KB with 36,191 triples,\n",
       " 'dev': Corpus with 64,937 examples; KB with 9,248 triples,\n",
       " 'all': Corpus with 331,696 examples; KB with 45,884 triples}"
      ]
     },
     "execution_count": 8,
     "metadata": {},
     "output_type": "execute_result"
    }
   ],
   "source": [
    "splits"
   ]
  },
  {
   "cell_type": "markdown",
   "metadata": {},
   "source": [
    "## Baselines"
   ]
  },
  {
   "cell_type": "markdown",
   "metadata": {},
   "source": [
    "### Hand-build feature functions"
   ]
  },
  {
   "cell_type": "code",
   "execution_count": 9,
   "metadata": {},
   "outputs": [],
   "source": [
    "def simple_bag_of_words_featurizer(kbt, corpus, feature_counter):\n",
    "    for ex in corpus.get_examples_for_entities(kbt.sbj, kbt.obj):\n",
    "        for word in ex.middle.split(' '):\n",
    "            feature_counter[word] += 1\n",
    "    for ex in corpus.get_examples_for_entities(kbt.obj, kbt.sbj):\n",
    "        for word in ex.middle.split(' '):\n",
    "            feature_counter[word] += 1\n",
    "    return feature_counter"
   ]
  },
  {
   "cell_type": "code",
   "execution_count": 10,
   "metadata": {},
   "outputs": [],
   "source": [
    "featurizers = [simple_bag_of_words_featurizer]"
   ]
  },
  {
   "cell_type": "code",
   "execution_count": 11,
   "metadata": {},
   "outputs": [],
   "source": [
    "model_factory = lambda: LogisticRegression(fit_intercept=True, solver='liblinear')"
   ]
  },
  {
   "cell_type": "code",
   "execution_count": 12,
   "metadata": {},
   "outputs": [
    {
     "name": "stdout",
     "output_type": "stream",
     "text": [
      "relation              precision     recall    f-score    support       size\n",
      "------------------    ---------  ---------  ---------  ---------  ---------\n",
      "adjoins                   0.856      0.368      0.676        340       5716\n",
      "author                    0.812      0.536      0.737        509       5885\n",
      "capital                   0.640      0.168      0.410         95       5471\n",
      "contains                  0.800      0.592      0.747       3904       9280\n",
      "film_performance          0.760      0.572      0.713        766       6142\n",
      "founders                  0.818      0.403      0.678        380       5756\n",
      "genre                     0.600      0.176      0.405        170       5546\n",
      "has_sibling               0.851      0.240      0.564        499       5875\n",
      "has_spouse                0.894      0.313      0.652        594       5970\n",
      "is_a                      0.728      0.221      0.500        497       5873\n",
      "nationality               0.625      0.199      0.438        301       5677\n",
      "parents                   0.874      0.535      0.776        312       5688\n",
      "place_of_birth            0.635      0.202      0.444        233       5609\n",
      "place_of_death            0.429      0.094      0.251        159       5535\n",
      "profession                0.625      0.202      0.441        247       5623\n",
      "worked_at                 0.763      0.240      0.531        242       5618\n",
      "------------------    ---------  ---------  ---------  ---------  ---------\n",
      "macro-average             0.732      0.316      0.560       9248      95264\n"
     ]
    }
   ],
   "source": [
    "baseline_results = rel_ext.experiment(\n",
    "    splits,\n",
    "    train_split='train',\n",
    "    test_split='dev',\n",
    "    featurizers=featurizers,\n",
    "    model_factory=model_factory,\n",
    "    verbose=True)"
   ]
  },
  {
   "cell_type": "markdown",
   "metadata": {},
   "source": [
    "Studying model weights might yield insights:"
   ]
  },
  {
   "cell_type": "code",
   "execution_count": 13,
   "metadata": {},
   "outputs": [
    {
     "name": "stdout",
     "output_type": "stream",
     "text": [
      "Highest and lowest feature weights for relation adjoins:\n",
      "\n",
      "     2.551 Córdoba\n",
      "     2.518 Taluks\n",
      "     2.324 Valais\n",
      "     ..... .....\n",
      "    -1.270 towers\n",
      "    -1.511 who\n",
      "    -1.524 he\n",
      "\n",
      "Highest and lowest feature weights for relation author:\n",
      "\n",
      "     2.866 wrote\n",
      "     2.416 writer\n",
      "     2.315 book\n",
      "     ..... .....\n",
      "    -2.636 Alice\n",
      "    -3.360 1945\n",
      "    -6.998 1865\n",
      "\n",
      "Highest and lowest feature weights for relation capital:\n",
      "\n",
      "     3.057 capital\n",
      "     1.783 km\n",
      "     1.754 especially\n",
      "     ..... .....\n",
      "    -1.898 ~3.9\n",
      "    -1.909 million\n",
      "    -1.915 pop\n",
      "\n",
      "Highest and lowest feature weights for relation contains:\n",
      "\n",
      "     2.501 bordered\n",
      "     2.371 tiny\n",
      "     2.165 surrounding\n",
      "     ..... .....\n",
      "    -2.423 who\n",
      "    -2.460 film\n",
      "    -8.242 Bronx\n",
      "\n",
      "Highest and lowest feature weights for relation film_performance:\n",
      "\n",
      "     4.170 starring\n",
      "     3.914 co-starring\n",
      "     3.758 alongside\n",
      "     ..... .....\n",
      "    -1.959 Malice\n",
      "    -1.967 Wonderland\n",
      "    -2.141 comedian\n",
      "\n",
      "Highest and lowest feature weights for relation founders:\n",
      "\n",
      "     3.938 founded\n",
      "     3.524 founder\n",
      "     2.868 co-founder\n",
      "     ..... .....\n",
      "    -1.866 city\n",
      "    -1.893 William\n",
      "    -1.997 Griffith\n",
      "\n",
      "Highest and lowest feature weights for relation genre:\n",
      "\n",
      "     3.123 series\n",
      "     3.084 \n",
      "     2.493 game\n",
      "     ..... .....\n",
      "    -1.376 during\n",
      "    -1.395 and\n",
      "    -1.768 at\n",
      "\n",
      "Highest and lowest feature weights for relation has_sibling:\n",
      "\n",
      "     5.262 brother\n",
      "     4.468 sister\n",
      "     2.898 Marlon\n",
      "     ..... .....\n",
      "    -1.381 alongside\n",
      "    -1.647 figure\n",
      "    -2.203 Her\n",
      "\n",
      "Highest and lowest feature weights for relation has_spouse:\n",
      "\n",
      "     5.383 wife\n",
      "     4.932 husband\n",
      "     4.556 married\n",
      "     ..... .....\n",
      "    -1.339 Calderon\n",
      "    -1.379 on\n",
      "    -1.584 engineer\n",
      "\n",
      "Highest and lowest feature weights for relation is_a:\n",
      "\n",
      "     3.584 \n",
      "     3.022 family\n",
      "     2.565 Genus\n",
      "     ..... .....\n",
      "    -1.827 now\n",
      "    -1.991 Corvus\n",
      "    -2.163 birds\n",
      "\n",
      "Highest and lowest feature weights for relation nationality:\n",
      "\n",
      "     2.867 born\n",
      "     2.047 Minister\n",
      "     1.933 caliph\n",
      "     ..... .....\n",
      "    -1.517 or\n",
      "    -1.624 1961\n",
      "    -1.714 American\n",
      "\n",
      "Highest and lowest feature weights for relation parents:\n",
      "\n",
      "     5.260 daughter\n",
      "     4.694 father\n",
      "     4.583 son\n",
      "     ..... .....\n",
      "    -1.997 succeeded\n",
      "    -2.096 passes\n",
      "    -2.892 Indian\n",
      "\n",
      "Highest and lowest feature weights for relation place_of_birth:\n",
      "\n",
      "     3.883 born\n",
      "     2.811 mayor\n",
      "     2.670 birthplace\n",
      "     ..... .....\n",
      "    -1.406 or\n",
      "    -1.483 and\n",
      "    -1.485 Indian\n",
      "\n",
      "Highest and lowest feature weights for relation place_of_death:\n",
      "\n",
      "     2.441 died\n",
      "     1.972 working\n",
      "     1.959 rebuilt\n",
      "     ..... .....\n",
      "    -1.092 or\n",
      "    -1.178 coast\n",
      "    -1.262 and\n",
      "\n",
      "Highest and lowest feature weights for relation profession:\n",
      "\n",
      "     4.080 \n",
      "     2.488 American\n",
      "     2.460 British\n",
      "     ..... .....\n",
      "    -1.264 in\n",
      "    -1.343 at\n",
      "    -2.190 on\n",
      "\n",
      "Highest and lowest feature weights for relation worked_at:\n",
      "\n",
      "     3.023 professor\n",
      "     2.848 CEO\n",
      "     2.624 founded\n",
      "     ..... .....\n",
      "    -1.306 first\n",
      "    -1.314 coast\n",
      "    -1.796 or\n",
      "\n"
     ]
    }
   ],
   "source": [
    "rel_ext.examine_model_weights(baseline_results)"
   ]
  },
  {
   "cell_type": "markdown",
   "metadata": {},
   "source": [
    "### Distributed representations\n",
    "\n",
    "This simple baseline sums the GloVe vector representations for all of the words in the \"middle\" span and feeds those representations into the standard `LogisticRegression`-based `model_factory`. The crucial parameter that enables this is `vectorize=False`. This essentially says to `rel_ext.experiment` that your featurizer or your model will do the work of turning examples into vectors; in that case, `rel_ext.experiment` just organizes these representations by relation type."
   ]
  },
  {
   "cell_type": "code",
   "execution_count": 14,
   "metadata": {},
   "outputs": [],
   "source": [
    "GLOVE_HOME = os.path.join('data', 'glove.6B')"
   ]
  },
  {
   "cell_type": "code",
   "execution_count": 15,
   "metadata": {},
   "outputs": [],
   "source": [
    "glove_lookup = utils.glove2dict(\n",
    "    os.path.join(GLOVE_HOME, 'glove.6B.300d.txt'))"
   ]
  },
  {
   "cell_type": "code",
   "execution_count": 16,
   "metadata": {},
   "outputs": [],
   "source": [
    "def glove_middle_featurizer(kbt, corpus, np_func=np.sum):\n",
    "    reps = []\n",
    "    for ex in corpus.get_examples_for_entities(kbt.sbj, kbt.obj):\n",
    "        for word in ex.middle.split():\n",
    "            rep = glove_lookup.get(word)\n",
    "            if rep is not None:\n",
    "                reps.append(rep)\n",
    "    # A random representation of the right dimensionality if the\n",
    "    # example happens not to overlap with GloVe's vocabulary:\n",
    "    if len(reps) == 0:\n",
    "        dim = len(next(iter(glove_lookup.values())))                \n",
    "        return utils.randvec(n=dim)\n",
    "    else:\n",
    "        return np_func(reps, axis=0)"
   ]
  },
  {
   "cell_type": "code",
   "execution_count": 17,
   "metadata": {},
   "outputs": [
    {
     "name": "stdout",
     "output_type": "stream",
     "text": [
      "relation              precision     recall    f-score    support       size\n",
      "------------------    ---------  ---------  ---------  ---------  ---------\n",
      "adjoins                   0.870      0.432      0.723        340       5716\n",
      "author                    0.837      0.444      0.711        509       5885\n",
      "capital                   0.615      0.168      0.402         95       5471\n",
      "contains                  0.656      0.405      0.583       3904       9280\n",
      "film_performance          0.788      0.321      0.611        766       6142\n",
      "founders                  0.795      0.234      0.537        380       5756\n",
      "genre                     0.476      0.059      0.197        170       5546\n",
      "has_sibling               0.821      0.238      0.551        499       5875\n",
      "has_spouse                0.876      0.355      0.677        594       5970\n",
      "is_a                      0.664      0.147      0.390        497       5873\n",
      "nationality               0.642      0.233      0.475        301       5677\n",
      "parents                   0.867      0.417      0.713        312       5688\n",
      "place_of_birth            0.632      0.206      0.447        233       5609\n",
      "place_of_death            0.500      0.107      0.288        159       5535\n",
      "profession                0.621      0.146      0.376        247       5623\n",
      "worked_at                 0.750      0.260      0.545        242       5618\n",
      "------------------    ---------  ---------  ---------  ---------  ---------\n",
      "macro-average             0.713      0.261      0.514       9248      95264\n"
     ]
    }
   ],
   "source": [
    "glove_results = rel_ext.experiment(\n",
    "    splits,\n",
    "    train_split='train',\n",
    "    test_split='dev',\n",
    "    featurizers=[glove_middle_featurizer],    \n",
    "    vectorize=False, # Crucial for this featurizer!\n",
    "    verbose=True)"
   ]
  },
  {
   "cell_type": "markdown",
   "metadata": {},
   "source": [
    "With the same basic code design, one can also use the PyTorch models included in the course repo, or write new ones that are better aligned with the task. For those models, it's likely that the featurizer will just return a list of tokens (or perhaps a list of lists of tokens), and the model will map those into vectors using an embedding."
   ]
  },
  {
   "cell_type": "markdown",
   "metadata": {},
   "source": [
    "## Homework questions\n",
    "\n",
    "Please embed your homework responses in this notebook, and do not delete any cells from the notebook. (You are free to add as many cells as you like as part of your responses.)"
   ]
  },
  {
   "cell_type": "markdown",
   "metadata": {},
   "source": [
    "### Different model factory [1 points]\n",
    "\n",
    "The code in `rel_ext` makes it very easy to experiment with other classifier models: one need only redefine the `model_factory` argument. This question asks you to assess a [Support Vector Classifier](https://scikit-learn.org/stable/modules/generated/sklearn.svm.SVC.html).\n",
    "\n",
    "__To submit:__ A wrapper function `run_svm_model_factory` that does the following: \n",
    "\n",
    "1. Uses `rel_ext.experiment` with the model factory set to one based in an `SVC` with `kernel='linear'` and all other arguments left with default values. \n",
    "1. Trains on the 'train' part of `splits`.\n",
    "1. Assesses on the `dev` part of `splits`.\n",
    "1. Uses `featurizers` as defined above. \n",
    "1. Returns the return value of `rel_ext.experiment` for this set-up.\n",
    "\n",
    "The function `test_run_svm_model_factory` will check that your function conforms to these general specifications."
   ]
  },
  {
   "cell_type": "code",
   "execution_count": 18,
   "metadata": {},
   "outputs": [],
   "source": [
    "def run_svm_model_factory():\n",
    "    \n",
    "    ##### YOUR CODE HERE\n",
    "    from sklearn.svm import SVC\n",
    "    glove_results = rel_ext.experiment(\n",
    "        splits,\n",
    "        train_split='train',\n",
    "        test_split='dev',\n",
    "        model_factory=(lambda: SVC(kernel='linear', max_iter=2)),\n",
    "        featurizers=[glove_middle_featurizer],\n",
    "        vectorize=False,  # Crucial for this featurizer!\n",
    "        verbose=True)\n",
    "\n",
    "    return glove_results"
   ]
  },
  {
   "cell_type": "code",
   "execution_count": 19,
   "metadata": {},
   "outputs": [],
   "source": [
    "def test_run_svm_model_factory(run_svm_model_factory):\n",
    "    results = run_svm_model_factory()\n",
    "    assert 'featurizers' in results, \\\n",
    "        \"The return value of `run_svm_model_factory` seems not to be correct\"\n",
    "    # Check one of the models to make sure it's an SVC:\n",
    "    assert 'SVC' in results['models']['adjoins'].__class__.__name__, \\\n",
    "        \"It looks like the model factor wasn't set to use an SVC.\"    "
   ]
  },
  {
   "cell_type": "code",
   "execution_count": 20,
   "metadata": {},
   "outputs": [
    {
     "name": "stderr",
     "output_type": "stream",
     "text": [
      "C:\\Users\\agoswami\\AppData\\Local\\Continuum\\anaconda3\\envs\\nlu\\lib\\site-packages\\sklearn\\svm\\_base.py:231: ConvergenceWarning: Solver terminated early (max_iter=2).  Consider pre-processing your data with StandardScaler or MinMaxScaler.\n",
      "  % self.max_iter, ConvergenceWarning)\n",
      "C:\\Users\\agoswami\\AppData\\Local\\Continuum\\anaconda3\\envs\\nlu\\lib\\site-packages\\sklearn\\svm\\_base.py:231: ConvergenceWarning: Solver terminated early (max_iter=2).  Consider pre-processing your data with StandardScaler or MinMaxScaler.\n",
      "  % self.max_iter, ConvergenceWarning)\n",
      "C:\\Users\\agoswami\\AppData\\Local\\Continuum\\anaconda3\\envs\\nlu\\lib\\site-packages\\sklearn\\svm\\_base.py:231: ConvergenceWarning: Solver terminated early (max_iter=2).  Consider pre-processing your data with StandardScaler or MinMaxScaler.\n",
      "  % self.max_iter, ConvergenceWarning)\n",
      "C:\\Users\\agoswami\\AppData\\Local\\Continuum\\anaconda3\\envs\\nlu\\lib\\site-packages\\sklearn\\svm\\_base.py:231: ConvergenceWarning: Solver terminated early (max_iter=2).  Consider pre-processing your data with StandardScaler or MinMaxScaler.\n",
      "  % self.max_iter, ConvergenceWarning)\n",
      "C:\\Users\\agoswami\\AppData\\Local\\Continuum\\anaconda3\\envs\\nlu\\lib\\site-packages\\sklearn\\svm\\_base.py:231: ConvergenceWarning: Solver terminated early (max_iter=2).  Consider pre-processing your data with StandardScaler or MinMaxScaler.\n",
      "  % self.max_iter, ConvergenceWarning)\n",
      "C:\\Users\\agoswami\\AppData\\Local\\Continuum\\anaconda3\\envs\\nlu\\lib\\site-packages\\sklearn\\svm\\_base.py:231: ConvergenceWarning: Solver terminated early (max_iter=2).  Consider pre-processing your data with StandardScaler or MinMaxScaler.\n",
      "  % self.max_iter, ConvergenceWarning)\n",
      "C:\\Users\\agoswami\\AppData\\Local\\Continuum\\anaconda3\\envs\\nlu\\lib\\site-packages\\sklearn\\svm\\_base.py:231: ConvergenceWarning: Solver terminated early (max_iter=2).  Consider pre-processing your data with StandardScaler or MinMaxScaler.\n",
      "  % self.max_iter, ConvergenceWarning)\n",
      "C:\\Users\\agoswami\\AppData\\Local\\Continuum\\anaconda3\\envs\\nlu\\lib\\site-packages\\sklearn\\svm\\_base.py:231: ConvergenceWarning: Solver terminated early (max_iter=2).  Consider pre-processing your data with StandardScaler or MinMaxScaler.\n",
      "  % self.max_iter, ConvergenceWarning)\n",
      "C:\\Users\\agoswami\\AppData\\Local\\Continuum\\anaconda3\\envs\\nlu\\lib\\site-packages\\sklearn\\svm\\_base.py:231: ConvergenceWarning: Solver terminated early (max_iter=2).  Consider pre-processing your data with StandardScaler or MinMaxScaler.\n",
      "  % self.max_iter, ConvergenceWarning)\n",
      "C:\\Users\\agoswami\\AppData\\Local\\Continuum\\anaconda3\\envs\\nlu\\lib\\site-packages\\sklearn\\svm\\_base.py:231: ConvergenceWarning: Solver terminated early (max_iter=2).  Consider pre-processing your data with StandardScaler or MinMaxScaler.\n",
      "  % self.max_iter, ConvergenceWarning)\n",
      "C:\\Users\\agoswami\\AppData\\Local\\Continuum\\anaconda3\\envs\\nlu\\lib\\site-packages\\sklearn\\svm\\_base.py:231: ConvergenceWarning: Solver terminated early (max_iter=2).  Consider pre-processing your data with StandardScaler or MinMaxScaler.\n",
      "  % self.max_iter, ConvergenceWarning)\n",
      "C:\\Users\\agoswami\\AppData\\Local\\Continuum\\anaconda3\\envs\\nlu\\lib\\site-packages\\sklearn\\svm\\_base.py:231: ConvergenceWarning: Solver terminated early (max_iter=2).  Consider pre-processing your data with StandardScaler or MinMaxScaler.\n",
      "  % self.max_iter, ConvergenceWarning)\n",
      "C:\\Users\\agoswami\\AppData\\Local\\Continuum\\anaconda3\\envs\\nlu\\lib\\site-packages\\sklearn\\svm\\_base.py:231: ConvergenceWarning: Solver terminated early (max_iter=2).  Consider pre-processing your data with StandardScaler or MinMaxScaler.\n",
      "  % self.max_iter, ConvergenceWarning)\n",
      "C:\\Users\\agoswami\\AppData\\Local\\Continuum\\anaconda3\\envs\\nlu\\lib\\site-packages\\sklearn\\svm\\_base.py:231: ConvergenceWarning: Solver terminated early (max_iter=2).  Consider pre-processing your data with StandardScaler or MinMaxScaler.\n",
      "  % self.max_iter, ConvergenceWarning)\n",
      "C:\\Users\\agoswami\\AppData\\Local\\Continuum\\anaconda3\\envs\\nlu\\lib\\site-packages\\sklearn\\svm\\_base.py:231: ConvergenceWarning: Solver terminated early (max_iter=2).  Consider pre-processing your data with StandardScaler or MinMaxScaler.\n",
      "  % self.max_iter, ConvergenceWarning)\n",
      "C:\\Users\\agoswami\\AppData\\Local\\Continuum\\anaconda3\\envs\\nlu\\lib\\site-packages\\sklearn\\svm\\_base.py:231: ConvergenceWarning: Solver terminated early (max_iter=2).  Consider pre-processing your data with StandardScaler or MinMaxScaler.\n",
      "  % self.max_iter, ConvergenceWarning)\n"
     ]
    },
    {
     "name": "stdout",
     "output_type": "stream",
     "text": [
      "relation              precision     recall    f-score    support       size\n",
      "------------------    ---------  ---------  ---------  ---------  ---------\n",
      "adjoins                   0.054      0.897      0.066        340       5716\n",
      "author                    0.086      0.994      0.105        509       5885\n",
      "capital                   0.017      0.989      0.021         95       5471\n",
      "contains                  0.421      0.999      0.476       3904       9280\n",
      "film_performance          0.125      0.997      0.151        766       6142\n",
      "founders                  0.066      1.000      0.081        380       5756\n",
      "genre                     0.032      0.806      0.039        170       5546\n",
      "has_sibling               0.083      0.956      0.102        499       5875\n",
      "has_spouse                0.099      0.997      0.121        594       5970\n",
      "is_a                      0.084      0.996      0.103        497       5873\n",
      "nationality               0.053      1.000      0.065        301       5677\n",
      "parents                   0.055      0.971      0.068        312       5688\n",
      "place_of_birth            0.042      1.000      0.051        233       5609\n",
      "place_of_death            0.028      0.981      0.035        159       5535\n",
      "profession                0.044      0.996      0.055        247       5623\n",
      "worked_at                 0.038      0.864      0.047        242       5618\n",
      "------------------    ---------  ---------  ---------  ---------  ---------\n",
      "macro-average             0.083      0.965      0.099       9248      95264\n"
     ]
    }
   ],
   "source": [
    "if 'IS_GRADESCOPE_ENV' not in os.environ:\n",
    "    test_run_svm_model_factory(run_svm_model_factory)"
   ]
  },
  {
   "cell_type": "markdown",
   "metadata": {},
   "source": [
    "### Directional unigram features [1.5 points]\n",
    "\n",
    "The current bag-of-words representation makes no distinction between \"forward\" and \"reverse\" examples. But, intuitively, there is big difference between _X and his son Y_ and _Y and his son X_. This question asks you to modify `simple_bag_of_words_featurizer` to capture these differences. \n",
    "\n",
    "__To submit:__\n",
    "\n",
    "1. A feature function `directional_bag_of_words_featurizer` that is just like `simple_bag_of_words_featurizer` except that it distinguishes \"forward\" and \"reverse\". To do this, you just need to mark each word feature for whether it is derived from a subject–object example or from an object–subject example.  The included function `test_directional_bag_of_words_featurizer` should help verify that you've done this correctly.\n",
    "\n",
    "2. A call to `rel_ext.experiment` with `directional_bag_of_words_featurizer` as the only featurizer. (Aside from this, use all the default values for `rel_ext.experiment` as exemplified above in this notebook.)\n",
    "\n",
    "3. `rel_ext.experiment` returns some of the core objects used in the experiment. How many feature names does the `vectorizer` have for the experiment run in the previous step? Include the code needed for getting this value. (Note: we're partly asking you to figure out how to get this value by using the sklearn documentation, so please don't ask how to do it!)"
   ]
  },
  {
   "cell_type": "code",
   "execution_count": 21,
   "metadata": {},
   "outputs": [
    {
     "name": "stdout",
     "output_type": "stream",
     "text": [
      "relation              precision     recall    f-score    support       size\n",
      "------------------    ---------  ---------  ---------  ---------  ---------\n",
      "adjoins                   0.876      0.394      0.704        340       5716\n",
      "author                    0.844      0.583      0.775        509       5885\n",
      "capital                   0.778      0.221      0.517         95       5471\n",
      "contains                  0.833      0.639      0.785       3904       9280\n",
      "film_performance          0.835      0.655      0.792        766       6142\n",
      "founders                  0.807      0.408      0.675        380       5756\n",
      "genre                     0.712      0.276      0.541        170       5546\n",
      "has_sibling               0.838      0.248      0.568        499       5875\n",
      "has_spouse                0.908      0.348      0.687        594       5970\n",
      "is_a                      0.740      0.252      0.533        497       5873\n",
      "nationality               0.651      0.236      0.482        301       5677\n",
      "parents                   0.866      0.519      0.764        312       5688\n",
      "place_of_birth            0.701      0.232      0.499        233       5609\n",
      "place_of_death            0.645      0.126      0.353        159       5535\n",
      "profession                0.759      0.255      0.544        247       5623\n",
      "worked_at                 0.753      0.264      0.550        242       5618\n",
      "------------------    ---------  ---------  ---------  ---------  ---------\n",
      "macro-average             0.784      0.354      0.611       9248      95264\n"
     ]
    },
    {
     "data": {
      "text/plain": [
       "40666"
      ]
     },
     "execution_count": 21,
     "metadata": {},
     "output_type": "execute_result"
    }
   ],
   "source": [
    "def directional_bag_of_words_featurizer(kbt, corpus, feature_counter): \n",
    "    # Append these to the end of the keys you add/access in \n",
    "    # `feature_counter` to distinguish the two orders. You'll\n",
    "    # need to use exactly these strings in order to pass \n",
    "    # `test_directional_bag_of_words_featurizer`.\n",
    "    subject_object_suffix = \"_SO\"\n",
    "    object_subject_suffix = \"_OS\"\n",
    "    \n",
    "    ##### YOUR CODE HERE\n",
    "    for ex in corpus.get_examples_for_entities(kbt.sbj, kbt.obj):\n",
    "        for word in ex.middle.split(' '):\n",
    "            feature_counter[word + subject_object_suffix] += 1\n",
    "    for ex in corpus.get_examples_for_entities(kbt.obj, kbt.sbj):\n",
    "        for word in ex.middle.split(' '):\n",
    "            feature_counter[word + object_subject_suffix] += 1\n",
    "\n",
    "    return feature_counter\n",
    "\n",
    "\n",
    "# Call to `rel_ext.experiment`:\n",
    "##### YOUR CODE HERE    \n",
    "featurizers = [directional_bag_of_words_featurizer]\n",
    "model_factory = lambda: LogisticRegression(fit_intercept=True, solver='liblinear')\n",
    "directional_results = rel_ext.experiment(\n",
    "    splits,\n",
    "    train_split='train',\n",
    "    test_split='dev',\n",
    "    featurizers=featurizers,\n",
    "    model_factory=model_factory,\n",
    "    verbose=True)\n",
    "\n",
    "len(directional_results['vectorizer'].get_feature_names())"
   ]
  },
  {
   "cell_type": "code",
   "execution_count": 22,
   "metadata": {},
   "outputs": [],
   "source": [
    "def test_directional_bag_of_words_featurizer(corpus):\n",
    "    from collections import defaultdict\n",
    "    kbt = rel_ext.KBTriple(rel='worked_at', sbj='Randall_Munroe', obj='xkcd')\n",
    "    feature_counter = defaultdict(int)\n",
    "    # Make sure `feature_counter` is being updated, not reinitialized:\n",
    "    feature_counter['is_OS'] += 5\n",
    "    feature_counter = directional_bag_of_words_featurizer(kbt, corpus, feature_counter)\n",
    "    expected = defaultdict(\n",
    "        int, {'is_OS':6,'a_OS':1,'webcomic_OS':1,'created_OS':1,'by_OS':1})\n",
    "    assert feature_counter == expected, \\\n",
    "        \"Expected:\\n{}\\nGot:\\n{}\".format(expected, feature_counter)"
   ]
  },
  {
   "cell_type": "code",
   "execution_count": 23,
   "metadata": {},
   "outputs": [],
   "source": [
    "if 'IS_GRADESCOPE_ENV' not in os.environ:\n",
    "    test_directional_bag_of_words_featurizer(corpus)"
   ]
  },
  {
   "cell_type": "markdown",
   "metadata": {},
   "source": [
    "### The part-of-speech tags of the \"middle\" words [1.5 points]\n",
    "\n",
    "Our corpus distribution contains part-of-speech (POS) tagged versions of the core text spans. Let's begin to explore whether there is information in these sequences, focusing on `middle_POS`.\n",
    "\n",
    "__To submit:__\n",
    "\n",
    "1. A feature function `middle_bigram_pos_tag_featurizer` that is just like `simple_bag_of_words_featurizer` except that it creates a feature for bigram POS sequences. For example, given \n",
    "\n",
    "  `The/DT dog/N napped/V`\n",
    "  \n",
    "   we obtain the list of bigram POS sequences\n",
    "  \n",
    "   `b = ['<s> DT', 'DT N', 'N V', 'V </s>']`. \n",
    "   \n",
    "   Of course, `middle_bigram_pos_tag_featurizer` should return count dictionaries defined in terms of such bigram POS lists, on the model of `simple_bag_of_words_featurizer`.  Don't forget the start and end tags, to model those environments properly! The included function `test_middle_bigram_pos_tag_featurizer` should help verify that you've done this correctly.\n",
    "\n",
    "2. A call to `rel_ext.experiment` with `middle_bigram_pos_tag_featurizer` as the only featurizer. (Aside from this, use all the default values for `rel_ext.experiment` as exemplified above in this notebook.)"
   ]
  },
  {
   "cell_type": "code",
   "execution_count": 24,
   "metadata": {},
   "outputs": [
    {
     "name": "stdout",
     "output_type": "stream",
     "text": [
      "relation              precision     recall    f-score    support       size\n",
      "------------------    ---------  ---------  ---------  ---------  ---------\n",
      "adjoins                   0.836      0.359      0.660        340       5716\n",
      "author                    0.735      0.332      0.591        509       5885\n",
      "capital                   0.737      0.147      0.409         95       5471\n",
      "contains                  0.744      0.589      0.707       3904       9280\n",
      "film_performance          0.677      0.437      0.610        766       6142\n",
      "founders                  0.554      0.176      0.388        380       5756\n",
      "genre                     0.688      0.194      0.456        170       5546\n",
      "has_sibling               0.653      0.162      0.407        499       5875\n",
      "has_spouse                0.773      0.258      0.552        594       5970\n",
      "is_a                      0.585      0.173      0.396        497       5873\n",
      "nationality               0.373      0.073      0.205        301       5677\n",
      "parents                   0.600      0.260      0.475        312       5688\n",
      "place_of_birth            0.582      0.137      0.353        233       5609\n",
      "place_of_death            0.542      0.082      0.255        159       5535\n",
      "profession                0.595      0.178      0.405        247       5623\n",
      "worked_at                 0.517      0.124      0.316        242       5618\n",
      "------------------    ---------  ---------  ---------  ---------  ---------\n",
      "macro-average             0.637      0.230      0.449       9248      95264\n"
     ]
    }
   ],
   "source": [
    "def middle_bigram_pos_tag_featurizer(kbt, corpus, feature_counter):\n",
    "    \n",
    "    ##### YOUR CODE HERE\n",
    "    for ex in corpus.get_examples_for_entities(kbt.sbj, kbt.obj):\n",
    "        for tag_bigram in get_tag_bigrams(ex.middle_POS):\n",
    "            feature_counter[tag_bigram] += 1\n",
    "\n",
    "    for ex in corpus.get_examples_for_entities(kbt.obj, kbt.sbj):\n",
    "        for tag_bigram in get_tag_bigrams(ex.middle_POS):\n",
    "            feature_counter[tag_bigram] += 1\n",
    "\n",
    "    return feature_counter\n",
    "\n",
    "\n",
    "def get_tag_bigrams(s):\n",
    "    \"\"\"Suggested helper method for `middle_bigram_pos_tag_featurizer`.\n",
    "    This should be defined so that it returns a list of str, where each \n",
    "    element is a POS bigram.\"\"\"\n",
    "    # The values of `start_symbol` and `end_symbol` are defined\n",
    "    # here so that you can use `test_middle_bigram_pos_tag_featurizer`.\n",
    "    start_symbol = \"<s>\"\n",
    "    end_symbol = \"</s>\"\n",
    "    \n",
    "    ##### YOUR CODE HERE\n",
    "    tags = [start_symbol] + get_tags(s) + [end_symbol]\n",
    "    tag_bigrams = []\n",
    "    for i in range(len(tags) - 1):\n",
    "        tag_bigrams.append(tags[i] + \" \" + tags[i + 1])\n",
    "    return tag_bigrams\n",
    "\n",
    "\n",
    "    \n",
    "def get_tags(s): \n",
    "    \"\"\"Given a sequence of word/POS elements (lemmas), this function\n",
    "    returns a list containing just the POS elements, in order.    \n",
    "    \"\"\"\n",
    "    return [parse_lem(lem)[1] for lem in s.strip().split(' ') if lem]\n",
    "\n",
    "\n",
    "def parse_lem(lem):\n",
    "    \"\"\"Helper method for parsing word/POS elements. It just splits\n",
    "    on the rightmost / and returns (word, POS) as a tuple of str.\"\"\"\n",
    "    return lem.strip().rsplit('/', 1)  \n",
    "\n",
    "# Call to `rel_ext.experiment`:\n",
    "##### YOUR CODE HERE\n",
    "featurizers = [middle_bigram_pos_tag_featurizer]\n",
    "middle_bigram_pos_results = rel_ext.experiment(\n",
    "    splits,\n",
    "    train_split='train',\n",
    "    test_split='dev',\n",
    "    featurizers=featurizers,\n",
    "    model_factory=model_factory,\n",
    "    verbose=True)\n"
   ]
  },
  {
   "cell_type": "code",
   "execution_count": 25,
   "metadata": {},
   "outputs": [],
   "source": [
    "def test_middle_bigram_pos_tag_featurizer(corpus):\n",
    "    from collections import defaultdict\n",
    "    kbt = rel_ext.KBTriple(rel='worked_at', sbj='Randall_Munroe', obj='xkcd')\n",
    "    feature_counter = defaultdict(int)\n",
    "    # Make sure `feature_counter` is being updated, not reinitialized:\n",
    "    feature_counter['<s> VBZ'] += 5\n",
    "    feature_counter = middle_bigram_pos_tag_featurizer(kbt, corpus, feature_counter)\n",
    "    expected = defaultdict(\n",
    "        int, {'<s> VBZ':6,'VBZ DT':1,'DT JJ':1,'JJ VBN':1,'VBN IN':1,'IN </s>':1})\n",
    "    assert feature_counter == expected, \\\n",
    "        \"Expected:\\n{}\\nGot:\\n{}\".format(expected, feature_counter)"
   ]
  },
  {
   "cell_type": "code",
   "execution_count": 26,
   "metadata": {},
   "outputs": [],
   "source": [
    "if 'IS_GRADESCOPE_ENV' not in os.environ:\n",
    "    test_middle_bigram_pos_tag_featurizer(corpus)"
   ]
  },
  {
   "cell_type": "markdown",
   "metadata": {},
   "source": [
    "### Bag of Synsets [2 points]\n",
    "\n",
    "The following allows you to use NLTK's WordNet API to get the synsets compatible with _dog_ as used as a noun:\n",
    "\n",
    "```\n",
    "from nltk.corpus import wordnet as wn\n",
    "dog = wn.synsets('dog', pos='n')\n",
    "dog\n",
    "[Synset('dog.n.01'),\n",
    " Synset('frump.n.01'),\n",
    " Synset('dog.n.03'),\n",
    " Synset('cad.n.01'),\n",
    " Synset('frank.n.02'),\n",
    " Synset('pawl.n.01'),\n",
    " Synset('andiron.n.01')]\n",
    "```\n",
    "\n",
    "This question asks you to create synset-based features from the word/tag pairs in `middle_POS`.\n",
    "\n",
    "__To submit:__\n",
    "\n",
    "1. A feature function `synset_featurizer` that is just like `simple_bag_of_words_featurizer` except that it returns a list of synsets derived from `middle_POS`. Stringify these objects with `str` so that they can be `dict` keys. Use `convert_tag` (included below) to convert tags to `pos` arguments usable by `wn.synsets`. The included function `test_synset_featurizer` should help verify that you've done this correctly.\n",
    "\n",
    "2. A call to `rel_ext.experiment` with `synset_featurizer` as the only featurizer. (Aside from this, use all the default values for `rel_ext.experiment`.)"
   ]
  },
  {
   "cell_type": "code",
   "execution_count": 27,
   "metadata": {},
   "outputs": [
    {
     "name": "stdout",
     "output_type": "stream",
     "text": [
      "relation              precision     recall    f-score    support       size\n",
      "------------------    ---------  ---------  ---------  ---------  ---------\n",
      "adjoins                   0.830      0.329      0.636        340       5716\n",
      "author                    0.762      0.446      0.667        509       5885\n",
      "capital                   0.677      0.221      0.479         95       5471\n",
      "contains                  0.783      0.579      0.731       3904       9280\n",
      "film_performance          0.759      0.546      0.704        766       6142\n",
      "founders                  0.772      0.374      0.636        380       5756\n",
      "genre                     0.585      0.224      0.442        170       5546\n",
      "has_sibling               0.733      0.214      0.494        499       5875\n",
      "has_spouse                0.888      0.306      0.644        594       5970\n",
      "is_a                      0.619      0.235      0.467        497       5873\n",
      "nationality               0.495      0.150      0.338        301       5677\n",
      "parents                   0.822      0.548      0.747        312       5688\n",
      "place_of_birth            0.595      0.215      0.439        233       5609\n",
      "place_of_death            0.435      0.126      0.292        159       5535\n",
      "profession                0.506      0.170      0.363        247       5623\n",
      "worked_at                 0.699      0.240      0.505        242       5618\n",
      "------------------    ---------  ---------  ---------  ---------  ---------\n",
      "macro-average             0.685      0.308      0.537       9248      95264\n"
     ]
    }
   ],
   "source": [
    "from nltk.corpus import wordnet as wn\n",
    "\n",
    "def synset_featurizer(kbt, corpus, feature_counter):\n",
    "    \n",
    "    ##### YOUR CODE HERE\n",
    "    for ex in corpus.get_examples_for_entities(kbt.sbj, kbt.obj):\n",
    "        for synset in get_synsets(ex.middle_POS):\n",
    "            feature_counter[str(synset)] += 1\n",
    "\n",
    "    for ex in corpus.get_examples_for_entities(kbt.obj, kbt.sbj):\n",
    "        for synset in get_synsets(ex.middle_POS):\n",
    "            feature_counter[str(synset)] += 1\n",
    "\n",
    "    return feature_counter\n",
    "\n",
    "\n",
    "def get_synsets(s):\n",
    "    \"\"\"Suggested helper method for `synset_featurizer`. This should\n",
    "    be completed so that it returns a list of stringified Synsets \n",
    "    associated with elements of `s`.\n",
    "    \"\"\"   \n",
    "    # Use `parse_lem` from the previous question to get a list of\n",
    "    # (word, POS) pairs. Remember to convert the POS strings.\n",
    "    wt = [parse_lem(lem) for lem in s.strip().split(' ') if lem]\n",
    "    \n",
    "    ##### YOUR CODE HERE\n",
    "    synsets = []\n",
    "    for word_tag in wt:\n",
    "        synsets.extend(wn.synsets(word_tag[0], convert_tag(word_tag[1])))\n",
    "\n",
    "    return synsets\n",
    "\n",
    "    \n",
    "    \n",
    "def convert_tag(t):\n",
    "    \"\"\"Converts tags so that they can be used by WordNet:\n",
    "    \n",
    "    | Tag begins with | WordNet tag |\n",
    "    |-----------------|-------------|\n",
    "    | `N`             | `n`         |\n",
    "    | `V`             | `v`         |\n",
    "    | `J`             | `a`         |\n",
    "    | `R`             | `r`         |\n",
    "    | Otherwise       | `None`      |\n",
    "    \"\"\"        \n",
    "    if t[0].lower() in {'n', 'v', 'r'}:\n",
    "        return t[0].lower()\n",
    "    elif t[0].lower() == 'j':\n",
    "        return 'a'\n",
    "    else:\n",
    "        return None    \n",
    "\n",
    "\n",
    "# Call to `rel_ext.experiment`:\n",
    "##### YOUR CODE HERE    \n",
    "featurizers = [synset_featurizer]\n",
    "synset_results = rel_ext.experiment(\n",
    "    splits,\n",
    "    train_split='train',\n",
    "    test_split='dev',\n",
    "    featurizers=featurizers,\n",
    "    model_factory=model_factory,\n",
    "    verbose=True)\n",
    "\n"
   ]
  },
  {
   "cell_type": "code",
   "execution_count": 28,
   "metadata": {},
   "outputs": [],
   "source": [
    "def test_synset_featurizer(corpus):\n",
    "    from collections import defaultdict\n",
    "    kbt = rel_ext.KBTriple(rel='worked_at', sbj='Randall_Munroe', obj='xkcd')\n",
    "    feature_counter = defaultdict(int)\n",
    "    # Make sure `feature_counter` is being updated, not reinitialized:\n",
    "    feature_counter[\"Synset('be.v.01')\"] += 5\n",
    "    feature_counter = synset_featurizer(kbt, corpus, feature_counter)\n",
    "    # The full return values for this tend to be long, so we just\n",
    "    # test a few examples to avoid cluttering up this notebook.\n",
    "    test_cases = {\n",
    "        \"Synset('be.v.01')\": 6,\n",
    "        \"Synset('embody.v.02')\": 1\n",
    "    }\n",
    "    for ss, expected in test_cases.items():   \n",
    "        result = feature_counter[ss]\n",
    "        assert result == expected, \\\n",
    "            \"Incorrect count for {}: Expected {}; Got {}\".format(ss, expected, result)"
   ]
  },
  {
   "cell_type": "code",
   "execution_count": 29,
   "metadata": {},
   "outputs": [],
   "source": [
    "if 'IS_GRADESCOPE_ENV' not in os.environ:\n",
    "    test_synset_featurizer(corpus)"
   ]
  },
  {
   "cell_type": "markdown",
   "metadata": {},
   "source": [
    "### Your original system [3 points]\n",
    "\n",
    "There are many options, and this could easily grow into a project. Here are a few ideas:\n",
    "\n",
    "- Try out different classifier models, from `sklearn` and elsewhere.\n",
    "- Add a feature that indicates the length of the middle.\n",
    "- Augment the bag-of-words representation to include bigrams or trigrams (not just unigrams).\n",
    "- Introduce features based on the entity mentions themselves. <!-- \\[SPOILER: it helps a lot, maybe 4% in F-score. And combines nicely with the directional features.\\] -->\n",
    "- Experiment with features based on the context outside (rather than between) the two entity mentions — that is, the words before the first mention, or after the second.\n",
    "- Try adding features which capture syntactic information, such as the dependency-path features used by Mintz et al. 2009. The [NLTK](https://www.nltk.org/) toolkit contains a variety of [parsing algorithms](http://www.nltk.org/api/nltk.parse.html) that may help.\n",
    "- The bag-of-words representation does not permit generalization across word categories such as names of people, places, or companies. Can we do better using word embeddings such as [GloVe](https://nlp.stanford.edu/projects/glove/)?\n",
    "\n",
    "In the cell below, please provide a brief technical description of your original system, so that the teaching team can gain an understanding of what it does. This will help us to understand your code and analyze all the submissions to identify patterns and strategies."
   ]
  },
  {
   "cell_type": "code",
   "execution_count": 48,
   "metadata": {},
   "outputs": [
    {
     "name": "stdout",
     "output_type": "stream",
     "text": [
      "0.1:[<function simple_bag_of_words_featurizer at 0x00000158C70FEC18>, <function directional_bag_of_words_featurizer_extended at 0x0000015951E9F0D8>, <function middle_bigram_pos_tag_featurizer at 0x00000158A14413A8>, <function synset_featurizer at 0x00000158D733B9D8>]\n",
      "relation              precision     recall    f-score    support       size\n",
      "------------------    ---------  ---------  ---------  ---------  ---------\n",
      "adjoins                   0.876      0.438      0.730        340       5716\n",
      "author                    0.846      0.690      0.809        509       5885\n",
      "capital                   0.604      0.305      0.505         95       5471\n",
      "contains                  0.789      0.789      0.789       3904       9280\n",
      "film_performance          0.836      0.745      0.816        766       6142\n",
      "founders                  0.837      0.447      0.713        380       5756\n",
      "genre                     0.714      0.412      0.623        170       5546\n",
      "has_sibling               0.849      0.541      0.762        499       5875\n",
      "has_spouse                0.900      0.680      0.845        594       5970\n",
      "is_a                      0.726      0.342      0.593        497       5873\n",
      "nationality               0.681      0.319      0.555        301       5677\n",
      "parents                   0.894      0.785      0.870        312       5688\n",
      "place_of_birth            0.759      0.258      0.546        233       5609\n",
      "place_of_death            0.585      0.151      0.372        159       5535\n",
      "profession                0.728      0.401      0.626        247       5623\n",
      "worked_at                 0.787      0.351      0.631        242       5618\n",
      "------------------    ---------  ---------  ---------  ---------  ---------\n",
      "macro-average             0.776      0.478      0.674       9248      95264\n"
     ]
    }
   ],
   "source": [
    "# Enter your system description in this cell.\n",
    "\n",
    "# Final system uses the following:\n",
    "# a. chaining featurizers -- helps\n",
    "# b. lightgbm classifier -- helps\n",
    "\n",
    "# Other things tried out:\n",
    "# 1. context words as features with flexible window size -- did not help\n",
    "# 2. direction-based length features -- helps sometimes. keeping it out of final system.\n",
    "# 3. different values for `train_sampling_rate` -- interestingly found the default (0.1) gives best results \n",
    "# 4. chaining featurizers -- helps\n",
    "# 5. lightgbm classifier -- helps\n",
    "\n",
    "# My peak score was: 0.674\n",
    "\n",
    "if 'IS_GRADESCOPE_ENV' not in os.environ:\n",
    "    \n",
    "    import lightgbm\n",
    "    \n",
    "    # ex : example\n",
    "    # suffix: suffix we want to prepend to word\n",
    "    # feature_counter : dict we are working with\n",
    "    # window_size : number of context words.\n",
    "    def add_context(ex, suffix, feature_counter, window_size):\n",
    "        \n",
    "        # get preceeding words in left context  \n",
    "        left_context = ex.left.split(' ')\n",
    "        left_context_window = left_context[len(left_context)-window_size:]\n",
    "        for word in left_context_window:\n",
    "            feature_counter[word + suffix] += 1\n",
    "\n",
    "        # get succeeding words in right context  \n",
    "        right_context = ex.right.split(' ')\n",
    "        right_context_window = right_context[:window_size]\n",
    "        for word in right_context_window:\n",
    "            feature_counter[word + suffix] += 1\n",
    "    \n",
    "    # ex : example\n",
    "    # suffix: suffix we want to prepend to length\n",
    "    # feature_counter : dict we are working with\n",
    "    def add_feature_counts(ex, suffix, feature_counter):\n",
    "        # get feature counts \n",
    "        feature_counter['###left_chars_count' + suffix] += len(ex.left)\n",
    "        feature_counter['###middle_chars_count' + suffix] += len(ex.middle)\n",
    "        feature_counter['###right_chars_count' + suffix] += len(ex.right)\n",
    "        \n",
    "        feature_counter['###left_words_count' + suffix] += len(ex.left.split(' '))\n",
    "        feature_counter['###middle_words_count' + suffix] += len(ex.middle.split(' '))\n",
    "        feature_counter['###right_words_count' + suffix] += len(ex.right.split(' '))        \n",
    "\n",
    "    \n",
    "    def directional_bag_of_words_featurizer_extended(kbt, corpus, feature_counter): \n",
    "        # Append these to the end of the keys you add/access in \n",
    "        # `feature_counter` to distinguish the two orders. You'll\n",
    "        # need to use exactly these strings in order to pass \n",
    "        # `test_directional_bag_of_words_featurizer`.\n",
    "        subject_object_suffix = \"_SO\"\n",
    "        object_subject_suffix = \"_OS\"\n",
    "    \n",
    "        # specify window size         \n",
    "        window_size = 10\n",
    "        \n",
    "        ##### YOUR CODE HERE\n",
    "        for ex in corpus.get_examples_for_entities(kbt.sbj, kbt.obj):\n",
    "            for word in ex.middle.split(' '):\n",
    "                feature_counter[word + subject_object_suffix] += 1            \n",
    "            \n",
    "            # add context words\n",
    "            # add_context(ex, subject_object_suffix, feature_counter, window_size)\n",
    "            \n",
    "            # add count features\n",
    "            # add_feature_counts(ex, subject_object_suffix, feature_counter)\n",
    "                \n",
    "        for ex in corpus.get_examples_for_entities(kbt.obj, kbt.sbj):\n",
    "            for word in ex.middle.split(' '):\n",
    "                feature_counter[word + object_subject_suffix] += 1\n",
    "            \n",
    "            # add context words\n",
    "            # add_context(ex, object_subject_suffix, feature_counter, window_size)\n",
    "            \n",
    "            # add count features\n",
    "            # add_feature_counts(ex, object_subject_suffix, feature_counter)\n",
    "            \n",
    "        return feature_counter\n",
    "\n",
    "    model_factory = lambda: lightgbm.LGBMClassifier()\n",
    "    \n",
    "    featurizers_list = [\n",
    "        #[simple_bag_of_words_featurizer],\n",
    "        #[directional_bag_of_words_featurizer_extended],\n",
    "        #[simple_bag_of_words_featurizer, directional_bag_of_words_featurizer_extended],\n",
    "        #[simple_bag_of_words_featurizer, directional_bag_of_words_featurizer_extended, middle_bigram_pos_tag_featurizer],\n",
    "        #[simple_bag_of_words_featurizer, directional_bag_of_words_featurizer_extended, synset_featurizer],\n",
    "        [simple_bag_of_words_featurizer, directional_bag_of_words_featurizer_extended, middle_bigram_pos_tag_featurizer, synset_featurizer]\n",
    "    ]\n",
    "       \n",
    "    train_sampling_rates = [\n",
    "        # 0.05,\n",
    "        0.1,\n",
    "        # 0.2\n",
    "    ]\n",
    "    \n",
    "    for featurizers in featurizers_list:\n",
    "        for train_sampling_rate in train_sampling_rates:\n",
    "            print(\"{0}:{1}\".format(train_sampling_rate, featurizers))\n",
    "        \n",
    "            train_results = rel_ext.experiment(\n",
    "                splits,\n",
    "                train_split='train',\n",
    "                train_sampling_rate=train_sampling_rate,\n",
    "                test_split='dev',\n",
    "                featurizers=featurizers,\n",
    "                model_factory=model_factory,\n",
    "                verbose=True)\n",
    "\n",
    "# Please do not remove this comment.\n",
    "\n"
   ]
  },
  {
   "cell_type": "markdown",
   "metadata": {},
   "source": [
    "## Bake-off [1 point]\n",
    "\n",
    "For the bake-off, we will release a test set. The announcement will go out on the discussion forum. You will evaluate your custom model from the previous question on these new datasets using the function `rel_ext.bake_off_experiment`. Rules:\n",
    "\n",
    "1. Only one evaluation is permitted.\n",
    "1. No additional system tuning is permitted once the bake-off has started.\n",
    "\n",
    "The cells below this one constitute your bake-off entry.\n",
    "\n",
    "People who enter will receive the additional homework point, and people whose systems achieve the top score will receive an additional 0.5 points. We will test the top-performing systems ourselves, and only systems for which we can reproduce the reported results will win the extra 0.5 points.\n",
    "\n",
    "Late entries will be accepted, but they cannot earn the extra 0.5 points. Similarly, you cannot win the bake-off unless your homework is submitted on time.\n",
    "\n",
    "The announcement will include the details on where to submit your entry."
   ]
  },
  {
   "cell_type": "code",
   "execution_count": 49,
   "metadata": {},
   "outputs": [
    {
     "name": "stdout",
     "output_type": "stream",
     "text": [
      "relation              precision     recall    f-score    support       size\n",
      "------------------    ---------  ---------  ---------  ---------  ---------\n",
      "adjoins                   0.873      0.489      0.755        438       7122\n",
      "author                    0.865      0.688      0.823        645       7329\n",
      "capital                   0.688      0.478      0.632        115       6799\n",
      "contains                  0.741      0.790      0.750       3808      10492\n",
      "film_performance          0.867      0.758      0.843       1011       7695\n",
      "founders                  0.828      0.498      0.731        444       7128\n",
      "genre                     0.808      0.426      0.685        188       6872\n",
      "has_sibling               0.904      0.576      0.811        717       7401\n",
      "has_spouse                0.872      0.427      0.721        780       7464\n",
      "is_a                      0.745      0.349      0.607        611       7295\n",
      "nationality               0.658      0.277      0.516        383       7067\n",
      "parents                   0.865      0.602      0.796        427       7111\n",
      "place_of_birth            0.727      0.275      0.547        291       6975\n",
      "place_of_death            0.688      0.220      0.482        200       6884\n",
      "profession                0.779      0.329      0.612        310       6994\n",
      "worked_at                 0.827      0.399      0.681        323       7007\n",
      "------------------    ---------  ---------  ---------  ---------  ---------\n",
      "macro-average             0.796      0.474      0.687      10691     117635\n"
     ]
    }
   ],
   "source": [
    "# Enter your bake-off assessment code in this cell. \n",
    "# Please do not remove this comment.\n",
    "if 'IS_GRADESCOPE_ENV' not in os.environ:\n",
    "    # Please enter your code in the scope of the above conditional.\n",
    "    ##### YOUR CODE HERE\n",
    "    \n",
    "    import lightgbm\n",
    "    \n",
    "    featurizers = [simple_bag_of_words_featurizer, directional_bag_of_words_featurizer_extended, middle_bigram_pos_tag_featurizer, synset_featurizer]\n",
    "    model_factory = lambda: lightgbm.LGBMClassifier()\n",
    "    \n",
    "    bakeoff_results = rel_ext.experiment(\n",
    "        splits,\n",
    "        train_split='all',\n",
    "        test_split='dev',\n",
    "        featurizers=featurizers,\n",
    "        model_factory=model_factory,\n",
    "        verbose=False) # We don't care about this eval, so skip its summary.\n",
    "\n",
    "    rel_ext_data_home_test = os.path.join(rel_ext_data_home, 'bakeoff-rel_ext-test-data')\n",
    "    rel_ext.bake_off_experiment(bakeoff_results, rel_ext_data_home_test)\n"
   ]
  },
  {
   "cell_type": "code",
   "execution_count": 50,
   "metadata": {},
   "outputs": [
    {
     "name": "stdout",
     "output_type": "stream",
     "text": [
      "0.687\n"
     ]
    }
   ],
   "source": [
    "# On an otherwise blank line in this cell, please enter\n",
    "# your macro-average f-score (an F_0.5 score) as reported \n",
    "# by the code above. Please enter only a number between \n",
    "# 0 and 1 inclusive. Please do not remove this comment.\n",
    "if 'IS_GRADESCOPE_ENV' not in os.environ:\n",
    "    # pass\n",
    "    # Please enter your score in the scope of the above conditional.\n",
    "    ##### YOUR CODE HERE\n",
    "    print(\"0.687\")\n",
    "\n",
    "\n"
   ]
  },
  {
   "cell_type": "code",
   "execution_count": null,
   "metadata": {},
   "outputs": [],
   "source": []
  }
 ],
 "metadata": {
  "kernelspec": {
   "display_name": "Python 3",
   "language": "python",
   "name": "python3"
  },
  "language_info": {
   "codemirror_mode": {
    "name": "ipython",
    "version": 3
   },
   "file_extension": ".py",
   "mimetype": "text/x-python",
   "name": "python",
   "nbconvert_exporter": "python",
   "pygments_lexer": "ipython3",
   "version": "3.7.7"
  },
  "widgets": {
   "state": {},
   "version": "1.1.2"
  }
 },
 "nbformat": 4,
 "nbformat_minor": 2
}
